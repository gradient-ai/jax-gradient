{
 "cells": [
  {
   "cell_type": "markdown",
   "source": [
    "# Before you start\n",
    "\n",
    "you must run the cell below or copy the command into the terminal to use all of Jax's capabilities"
   ],
   "metadata": {}
  },
  {
   "cell_type": "code",
   "execution_count": null,
   "source": [
    "!nvidia-smi"
   ],
   "outputs": [],
   "metadata": {}
  },
  {
   "cell_type": "markdown",
   "source": [
    "**Copyright 2018 Google LLC.**\n",
    "\n",
    "Licensed under the Apache License, Version 2.0 (the \"License\");"
   ],
   "metadata": {
    "id": "18AF5Ab4p6VL"
   }
  },
  {
   "cell_type": "markdown",
   "source": [
    "Licensed under the Apache License, Version 2.0 (the \"License\");\n",
    "you may not use this file except in compliance with the License.\n",
    "You may obtain a copy of the License at\n",
    "\n",
    "https://www.apache.org/licenses/LICENSE-2.0\n",
    "\n",
    "Unless required by applicable law or agreed to in writing, software\n",
    "distributed under the License is distributed on an \"AS IS\" BASIS,\n",
    "WITHOUT WARRANTIES OR CONDITIONS OF ANY KIND, either express or implied.\n",
    "See the License for the specific language governing permissions and\n",
    "limitations under the License."
   ],
   "metadata": {
    "id": "crfqaJOyp8bq"
   }
  },
  {
   "cell_type": "markdown",
   "source": [
    "# Training a Simple Neural Network, with tensorflow/datasets Data Loading\n",
    "\n",
    "\n",
    "_Forked from_ `neural_network_and_data_loading.ipynb`\n",
    "\n",
    "![JAX](https://raw.githubusercontent.com/google/jax/main/images/jax_logo_250px.png)\n",
    "\n",
    "Let's combine everything we showed in the quickstart notebook to train a simple neural network. We will first specify and train a simple MLP on MNIST using JAX for the computation. We will use `tensorflow/datasets` data loading API to load images and labels (because it's pretty great, and the world doesn't need yet another data loading library :P).\n",
    "\n",
    "Of course, you can use JAX with any API that is compatible with NumPy to make specifying the model a bit more plug-and-play. Here, just for explanatory purposes, we won't use any neural network libraries or special APIs for builidng our model."
   ],
   "metadata": {
    "id": "B_XlLLpcWjkA"
   }
  },
  {
   "cell_type": "code",
   "execution_count": 2,
   "source": [
    "import jax.numpy as jnp\n",
    "from jax import grad, jit, vmap\n",
    "from jax import random"
   ],
   "outputs": [],
   "metadata": {
    "id": "OksHydJDtbbI"
   }
  },
  {
   "cell_type": "markdown",
   "source": [
    "## Hyperparameters\n",
    "Let's get a few bookkeeping items out of the way."
   ],
   "metadata": {
    "id": "MTVcKi-ZYB3R"
   }
  },
  {
   "cell_type": "code",
   "execution_count": 3,
   "source": [
    "# A helper function to randomly initialize weights and biases\n",
    "# for a dense neural network layer\n",
    "def random_layer_params(m, n, key, scale=1e-2):\n",
    "  w_key, b_key = random.split(key)\n",
    "  return scale * random.normal(w_key, (n, m)), scale * random.normal(b_key, (n,))\n",
    "\n",
    "# Initialize all layers for a fully-connected neural network with sizes \"sizes\"\n",
    "def init_network_params(sizes, key):\n",
    "  keys = random.split(key, len(sizes))\n",
    "  return [random_layer_params(m, n, k) for m, n, k in zip(sizes[:-1], sizes[1:], keys)]\n",
    "\n",
    "layer_sizes = [784, 512, 512, 10]\n",
    "param_scale = 0.1\n",
    "step_size = 0.01\n",
    "num_epochs = 10\n",
    "batch_size = 128\n",
    "n_targets = 10\n",
    "params = init_network_params(layer_sizes, random.PRNGKey(0))"
   ],
   "outputs": [],
   "metadata": {
    "id": "-fmWA06xYE7d",
    "outputId": "520e5fd5-97c4-43eb-ef0e-b714d5287689"
   }
  },
  {
   "cell_type": "markdown",
   "source": [
    "## Auto-batching predictions\n",
    "\n",
    "Let us first define our prediction function. Note that we're defining this for a _single_ image example. We're going to use JAX's `vmap` function to automatically handle mini-batches, with no performance penalty."
   ],
   "metadata": {
    "id": "BtoNk_yxWtIw"
   }
  },
  {
   "cell_type": "code",
   "execution_count": 4,
   "source": [
    "from jax.scipy.special import logsumexp\n",
    "\n",
    "def relu(x):\n",
    "  return jnp.maximum(0, x)\n",
    "\n",
    "def predict(params, image):\n",
    "  # per-example predictions\n",
    "  activations = image\n",
    "  for w, b in params[:-1]:\n",
    "    outputs = jnp.dot(w, activations) + b\n",
    "    activations = relu(outputs)\n",
    "  \n",
    "  final_w, final_b = params[-1]\n",
    "  logits = jnp.dot(final_w, activations) + final_b\n",
    "  return logits - logsumexp(logits)"
   ],
   "outputs": [],
   "metadata": {
    "id": "7APc6tD7TiuZ"
   }
  },
  {
   "cell_type": "markdown",
   "source": [
    "Let's check that our prediction function only works on single images."
   ],
   "metadata": {
    "id": "dRW_TvCTWgaP"
   }
  },
  {
   "cell_type": "code",
   "execution_count": 5,
   "source": [
    "# This works on single examples\n",
    "random_flattened_image = random.normal(random.PRNGKey(1), (28 * 28,))\n",
    "preds = predict(params, random_flattened_image)\n",
    "print(preds.shape)"
   ],
   "outputs": [
    {
     "output_type": "stream",
     "name": "stdout",
     "text": [
      "(10,)\n"
     ]
    }
   ],
   "metadata": {
    "id": "4sW2A5mnXHc5",
    "outputId": "ce9d86ed-a830-4832-e04d-10d1abb1fb8a"
   }
  },
  {
   "cell_type": "code",
   "execution_count": 6,
   "source": [
    "# Doesn't work with a batch\n",
    "random_flattened_images = random.normal(random.PRNGKey(1), (10, 28 * 28))\n",
    "try:\n",
    "  preds = predict(params, random_flattened_images)\n",
    "except TypeError:\n",
    "  print('Invalid shapes!')"
   ],
   "outputs": [
    {
     "output_type": "stream",
     "name": "stdout",
     "text": [
      "Invalid shapes!\n"
     ]
    }
   ],
   "metadata": {
    "id": "PpyQxuedXfhp",
    "outputId": "f43bbc9d-bc8f-4168-ee7b-79ee9d33f245"
   }
  },
  {
   "cell_type": "code",
   "execution_count": 7,
   "source": [
    "# Let's upgrade it to handle batches using `vmap`\n",
    "\n",
    "# Make a batched version of the `predict` function\n",
    "batched_predict = vmap(predict, in_axes=(None, 0))\n",
    "\n",
    "# `batched_predict` has the same call signature as `predict`\n",
    "batched_preds = batched_predict(params, random_flattened_images)\n",
    "print(batched_preds.shape)"
   ],
   "outputs": [
    {
     "output_type": "stream",
     "name": "stdout",
     "text": [
      "(10, 10)\n"
     ]
    }
   ],
   "metadata": {
    "id": "oJOOncKMXbwK",
    "outputId": "fa380024-aaf8-4789-d3a2-f060134930e6"
   }
  },
  {
   "cell_type": "markdown",
   "source": [
    "At this point, we have all the ingredients we need to define our neural network and train it. We've built an auto-batched version of `predict`, which we should be able to use in a loss function. We should be able to use `grad` to take the derivative of the loss with respect to the neural network parameters. Last, we should be able to use `jit` to speed up everything."
   ],
   "metadata": {
    "id": "elsG6nX03BvW"
   }
  },
  {
   "cell_type": "markdown",
   "source": [
    "## Utility and loss functions"
   ],
   "metadata": {
    "id": "NwDuFqc9X7ER"
   }
  },
  {
   "cell_type": "code",
   "execution_count": 8,
   "source": [
    "def one_hot(x, k, dtype=jnp.float32):\n",
    "  \"\"\"Create a one-hot encoding of x of size k.\"\"\"\n",
    "  return jnp.array(x[:, None] == jnp.arange(k), dtype)\n",
    "  \n",
    "def accuracy(params, images, targets):\n",
    "  target_class = jnp.argmax(targets, axis=1)\n",
    "  predicted_class = jnp.argmax(batched_predict(params, images), axis=1)\n",
    "  return jnp.mean(predicted_class == target_class)\n",
    "\n",
    "def loss(params, images, targets):\n",
    "  preds = batched_predict(params, images)\n",
    "  return -jnp.mean(preds * targets)\n",
    "\n",
    "@jit\n",
    "def update(params, x, y):\n",
    "  grads = grad(loss)(params, x, y)\n",
    "  return [(w - step_size * dw, b - step_size * db)\n",
    "          for (w, b), (dw, db) in zip(params, grads)]"
   ],
   "outputs": [],
   "metadata": {
    "id": "6lTI6I4lWdh5"
   }
  },
  {
   "cell_type": "markdown",
   "source": [
    "## Data Loading with `tensorflow/datasets`\n",
    "\n",
    "JAX is laser-focused on program transformations and accelerator-backed NumPy, so we don't include data loading or munging in the JAX library. There are already a lot of great data loaders out there, so let's just use them instead of reinventing anything. We'll use the `tensorflow/datasets` data loader."
   ],
   "metadata": {
    "id": "umJJGZCC2oKl"
   }
  },
  {
   "cell_type": "code",
   "execution_count": 9,
   "source": [
    "import tensorflow_datasets as tfds\n",
    "\n",
    "data_dir = '/tmp/tfds'\n",
    "\n",
    "# Fetch full datasets for evaluation\n",
    "# tfds.load returns tf.Tensors (or tf.data.Datasets if batch_size != -1)\n",
    "# You can convert them to NumPy arrays (or iterables of NumPy arrays) with tfds.dataset_as_numpy\n",
    "mnist_data, info = tfds.load(name=\"mnist\", batch_size=-1, data_dir=data_dir, with_info=True)\n",
    "mnist_data = tfds.as_numpy(mnist_data)\n",
    "train_data, test_data = mnist_data['train'], mnist_data['test']\n",
    "num_labels = info.features['label'].num_classes\n",
    "h, w, c = info.features['image'].shape\n",
    "num_pixels = h * w * c\n",
    "\n",
    "# Full train set\n",
    "train_images, train_labels = train_data['image'], train_data['label']\n",
    "train_images = jnp.reshape(train_images, (len(train_images), num_pixels))\n",
    "train_labels = one_hot(train_labels, num_labels)\n",
    "\n",
    "# Full test set\n",
    "test_images, test_labels = test_data['image'], test_data['label']\n",
    "test_images = jnp.reshape(test_images, (len(test_images), num_pixels))\n",
    "test_labels = one_hot(test_labels, num_labels)"
   ],
   "outputs": [],
   "metadata": {
    "id": "uWvo1EgZCvnK"
   }
  },
  {
   "cell_type": "code",
   "execution_count": 10,
   "source": [
    "print('Train:', train_images.shape, train_labels.shape)\n",
    "print('Test:', test_images.shape, test_labels.shape)"
   ],
   "outputs": [
    {
     "output_type": "stream",
     "name": "stdout",
     "text": [
      "Train: (60000, 784) (60000, 10)\n",
      "Test: (10000, 784) (10000, 10)\n"
     ]
    }
   ],
   "metadata": {
    "id": "7VMSC03gCvnO",
    "outputId": "e565586e-d598-4fa1-dd6f-10ba39617f6a"
   }
  },
  {
   "cell_type": "markdown",
   "source": [
    "## Training Loop"
   ],
   "metadata": {
    "id": "xxPd6Qw3Z98v"
   }
  },
  {
   "cell_type": "code",
   "execution_count": 11,
   "source": [
    "import time\n",
    "\n",
    "def get_train_batches():\n",
    "  # as_supervised=True gives us the (image, label) as a tuple instead of a dict\n",
    "  ds = tfds.load(name='mnist', split='train', as_supervised=True, data_dir=data_dir)\n",
    "  # You can build up an arbitrary tf.data input pipeline\n",
    "  ds = ds.batch(batch_size).prefetch(1)\n",
    "  # tfds.dataset_as_numpy converts the tf.data.Dataset into an iterable of NumPy arrays\n",
    "  return tfds.as_numpy(ds)\n",
    "\n",
    "for epoch in range(num_epochs):\n",
    "  start_time = time.time()\n",
    "  for x, y in get_train_batches():\n",
    "    x = jnp.reshape(x, (len(x), num_pixels))\n",
    "    y = one_hot(y, num_labels)\n",
    "    params = update(params, x, y)\n",
    "  epoch_time = time.time() - start_time\n",
    "\n",
    "  train_acc = accuracy(params, train_images, train_labels)\n",
    "  test_acc = accuracy(params, test_images, test_labels)\n",
    "  print(\"Epoch {} in {:0.2f} sec\".format(epoch, epoch_time))\n",
    "  print(\"Training set accuracy {}\".format(train_acc))\n",
    "  print(\"Test set accuracy {}\".format(test_acc))"
   ],
   "outputs": [
    {
     "output_type": "stream",
     "name": "stdout",
     "text": [
      "Epoch 0 in 28.30 sec\n",
      "Training set accuracy 0.8400499820709229\n",
      "Test set accuracy 0.8469000458717346\n",
      "Epoch 1 in 14.74 sec\n",
      "Training set accuracy 0.8743667006492615\n",
      "Test set accuracy 0.8803000450134277\n",
      "Epoch 2 in 14.57 sec\n",
      "Training set accuracy 0.8901500105857849\n",
      "Test set accuracy 0.8957000374794006\n",
      "Epoch 3 in 14.36 sec\n",
      "Training set accuracy 0.8991333246231079\n",
      "Test set accuracy 0.903700053691864\n",
      "Epoch 4 in 14.20 sec\n",
      "Training set accuracy 0.9061833620071411\n",
      "Test set accuracy 0.9087000489234924\n",
      "Epoch 5 in 14.89 sec\n",
      "Training set accuracy 0.9113333225250244\n",
      "Test set accuracy 0.912600040435791\n",
      "Epoch 6 in 13.95 sec\n",
      "Training set accuracy 0.9156833291053772\n",
      "Test set accuracy 0.9176000356674194\n",
      "Epoch 7 in 13.32 sec\n",
      "Training set accuracy 0.9192000031471252\n",
      "Test set accuracy 0.9214000701904297\n",
      "Epoch 8 in 13.55 sec\n",
      "Training set accuracy 0.9222500324249268\n",
      "Test set accuracy 0.9241000413894653\n",
      "Epoch 9 in 13.40 sec\n",
      "Training set accuracy 0.9253666996955872\n",
      "Test set accuracy 0.9269000291824341\n"
     ]
    }
   ],
   "metadata": {
    "id": "X2DnZo3iYj18",
    "outputId": "bad334e0-127a-40fe-ec21-b0db77c73088"
   }
  },
  {
   "cell_type": "markdown",
   "source": [
    "We've now used the whole of the JAX API: `grad` for derivatives, `jit` for speedups and `vmap` for auto-vectorization.\n",
    "We used NumPy to specify all of our computation, and borrowed the great data loaders from `tensorflow/datasets`, and ran the whole thing on the GPU."
   ],
   "metadata": {
    "id": "xC1CMcVNYwxm"
   }
  }
 ],
 "metadata": {
  "accelerator": "GPU",
  "colab": {
   "collapsed_sections": [],
   "name": "neural-network-and-data-loading.ipynb",
   "provenance": [],
   "toc_visible": true,
   "version": "0.3.2"
  },
  "jupytext": {
   "formats": "ipynb,md:myst"
  },
  "kernelspec": {
   "display_name": "Python 3",
   "language": "python",
   "name": "python3"
  },
  "language_info": {
   "codemirror_mode": {
    "name": "ipython",
    "version": 3
   },
   "file_extension": ".py",
   "mimetype": "text/x-python",
   "name": "python",
   "nbconvert_exporter": "python",
   "pygments_lexer": "ipython3",
   "version": "3.7.4"
  }
 },
 "nbformat": 4,
 "nbformat_minor": 1
}