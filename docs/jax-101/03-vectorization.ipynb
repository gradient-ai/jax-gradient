{
 "cells": [
  {
   "cell_type": "markdown",
   "source": [
    "# Automatic Vectorization in JAX\n",
    "\n",
    "\n",
    "*Authors: Matteo Hessel*\n",
    "\n",
    "In the previous section we discussed JIT compilation via the `jax.jit` function. This notebook discusses another of JAX's transforms: vectorization via `jax.vmap`."
   ],
   "metadata": {
    "id": "zMIrmiaZxiJC"
   }
  },
  {
   "cell_type": "markdown",
   "source": [
    "## Manual Vectorization\n",
    "\n",
    "Consider the following simple code that computes the convolution of two one-dimensional vectors:"
   ],
   "metadata": {
    "id": "Kw-_imBrx4nN"
   }
  },
  {
   "cell_type": "code",
   "execution_count": 1,
   "source": [
    "import jax\n",
    "import jax.numpy as jnp\n",
    "\n",
    "x = jnp.arange(5)\n",
    "w = jnp.array([2., 3., 4.])\n",
    "\n",
    "def convolve(x, w):\n",
    "  output = []\n",
    "  for i in range(1, len(x)-1):\n",
    "    output.append(jnp.dot(x[i-1:i+2], w))\n",
    "  return jnp.array(output)\n",
    "\n",
    "convolve(x, w)"
   ],
   "outputs": [
    {
     "output_type": "execute_result",
     "data": {
      "text/plain": [
       "DeviceArray([11., 20., 29.], dtype=float32)"
      ]
     },
     "metadata": {
      "tags": []
     },
     "execution_count": 1
    }
   ],
   "metadata": {
    "id": "5Obro91lwE_s",
    "outputId": "061983c6-2faa-4a54-83a5-d2a823f61087"
   }
  },
  {
   "cell_type": "markdown",
   "source": [
    "Suppose we would like to apply this function to a batch of weights `w` to a batch of vectors `x`."
   ],
   "metadata": {
    "id": "z_nPhEhLRysk"
   }
  },
  {
   "cell_type": "code",
   "execution_count": 2,
   "source": [
    "xs = jnp.stack([x, x])\n",
    "ws = jnp.stack([w, w])"
   ],
   "outputs": [],
   "metadata": {
    "id": "rHQJnnrVUbxE"
   }
  },
  {
   "cell_type": "markdown",
   "source": [
    "The most naive option would be to simply loop over the batch in Python:"
   ],
   "metadata": {
    "id": "ghaJQW1aUfPi"
   }
  },
  {
   "cell_type": "code",
   "execution_count": 10,
   "source": [
    "def manually_batched_convolve(xs, ws):\n",
    "  output = []\n",
    "  for i in range(xs.shape[0]):\n",
    "    output.append(convolve(xs[i], ws[i]))\n",
    "  return jnp.stack(output)\n",
    "\n",
    "manually_batched_convolve(xs, ws)"
   ],
   "outputs": [
    {
     "output_type": "execute_result",
     "data": {
      "text/plain": [
       "DeviceArray([[11., 20., 29.],\n",
       "             [11., 20., 29.]], dtype=float32)"
      ]
     },
     "metadata": {
      "tags": []
     },
     "execution_count": 10
    }
   ],
   "metadata": {
    "id": "yM-IycdlzGyJ",
    "outputId": "07ed6ffc-0265-45ef-d585-4b5fa7d221f1"
   }
  },
  {
   "cell_type": "markdown",
   "source": [
    "This produces the correct result, however it is not very efficient.\n",
    "\n",
    "In order to batch the computation efficiently, you would normally have to rewrite the function manually to ensure it is done in vectorized form. This is not particularly difficult to implement, but does involve changing how the function treats indices, axes, and other parts of the input.\n",
    "\n",
    "For example, we could manually rewrite `convolve()` to support vectorized computation across the batch dimension as follows:"
   ],
   "metadata": {
    "id": "VTh0l_1SUlh4"
   }
  },
  {
   "cell_type": "code",
   "execution_count": 5,
   "source": [
    "def manually_vectorized_convolve(xs, ws):\n",
    "  output = []\n",
    "  for i in range(1, xs.shape[-1] -1):\n",
    "    output.append(jnp.sum(xs[:, i-1:i+2] * ws, axis=1))\n",
    "  return jnp.stack(output, axis=1)\n",
    "\n",
    "manually_vectorized_convolve(xs, ws)"
   ],
   "outputs": [
    {
     "output_type": "execute_result",
     "data": {
      "text/plain": [
       "DeviceArray([[11., 20., 29.],\n",
       "             [11., 20., 29.]], dtype=float32)"
      ]
     },
     "metadata": {
      "tags": []
     },
     "execution_count": 5
    }
   ],
   "metadata": {
    "id": "I4Wd9nrcTRRL",
    "outputId": "0b037b43-7b41-4625-f9e0-a6e0dbc4c65a"
   }
  },
  {
   "cell_type": "markdown",
   "source": [
    "Such re-implementation is messy and error-prone; fortunately JAX provides another way."
   ],
   "metadata": {
    "id": "DW-RJ2Zs2QVu"
   }
  },
  {
   "cell_type": "markdown",
   "source": [
    "## Automatic Vectorization\n",
    "\n",
    "In JAX, the `jax.vmap` transformation is designed to generate such a vectorized implementation of a function automatically:"
   ],
   "metadata": {
    "id": "2oVLanQmUAo_"
   }
  },
  {
   "cell_type": "code",
   "execution_count": 6,
   "source": [
    "auto_batch_convolve = jax.vmap(convolve)\n",
    "\n",
    "auto_batch_convolve(xs, ws)"
   ],
   "outputs": [
    {
     "output_type": "execute_result",
     "data": {
      "text/plain": [
       "DeviceArray([[11., 20., 29.],\n",
       "             [11., 20., 29.]], dtype=float32)"
      ]
     },
     "metadata": {
      "tags": []
     },
     "execution_count": 6
    }
   ],
   "metadata": {
    "id": "Brl-BoTqSQDw",
    "outputId": "af608dbb-27f2-4fbc-f225-79f3101b13ff"
   }
  },
  {
   "cell_type": "markdown",
   "source": [
    "It does this by tracing the function similarly to `jax.jit`, and automatically adding batch axes at the beginning of each input.\n",
    "\n",
    "If the batch dimension is not the first, you may use the `in_axes` and `out_axes` arguments to specify the location of the batch dimension in inputs and outputs. These may be an integer if the batch axis is the same for all inputs and outputs, or lists, otherwise."
   ],
   "metadata": {
    "id": "7aVAy7332lFj"
   }
  },
  {
   "cell_type": "code",
   "execution_count": 7,
   "source": [
    "auto_batch_convolve_v2 = jax.vmap(convolve, in_axes=1, out_axes=1)\n",
    "\n",
    "xst = jnp.transpose(xs)\n",
    "wst = jnp.transpose(ws)\n",
    "\n",
    "auto_batch_convolve_v2(xst, wst)"
   ],
   "outputs": [
    {
     "output_type": "execute_result",
     "data": {
      "text/plain": [
       "DeviceArray([[11., 11.],\n",
       "             [20., 20.],\n",
       "             [29., 29.]], dtype=float32)"
      ]
     },
     "metadata": {
      "tags": []
     },
     "execution_count": 7
    }
   ],
   "metadata": {
    "id": "_VEEm1CGT2n0",
    "outputId": "751e0fbf-bdfb-41df-9436-4da5de23123f"
   }
  },
  {
   "cell_type": "markdown",
   "source": [
    "`jax.vmap` also supports the case where only one of the arguments is batched: for example, if you would like to convolve to a single set of weights `w` with a batch of vectors `x`; in this case the `in_axes` argument can be set to `None`:"
   ],
   "metadata": {
    "id": "-gNiLuxzSX32"
   }
  },
  {
   "cell_type": "code",
   "execution_count": 8,
   "source": [
    "batch_convolve_v3 = jax.vmap(convolve, in_axes=[0, None])\n",
    "\n",
    "batch_convolve_v3(xs, w)"
   ],
   "outputs": [
    {
     "output_type": "execute_result",
     "data": {
      "text/plain": [
       "DeviceArray([[11., 20., 29.],\n",
       "             [11., 20., 29.]], dtype=float32)"
      ]
     },
     "metadata": {
      "tags": []
     },
     "execution_count": 8
    }
   ],
   "metadata": {
    "id": "2s2YDsamSxki",
    "outputId": "5c70879b-5cce-4549-e38a-f45dbe663ab2"
   }
  },
  {
   "cell_type": "markdown",
   "source": [
    "## Combining transformations\n",
    "\n",
    "As with all JAX transformations, `jax.jit` and `jax.vmap` are designed to be composable, which means you can wrap a vmapped function with `jit`, or a JITted function with `vmap`, and everything will work correctly:"
   ],
   "metadata": {
    "id": "bsxT4hA6RTCG"
   }
  },
  {
   "cell_type": "code",
   "execution_count": 9,
   "source": [
    "jitted_batch_convolve = jax.jit(auto_batch_convolve)\n",
    "\n",
    "jitted_batch_convolve(xs, ws)"
   ],
   "outputs": [
    {
     "output_type": "execute_result",
     "data": {
      "text/plain": [
       "DeviceArray([[11., 20., 29.],\n",
       "             [11., 20., 29.]], dtype=float32)"
      ]
     },
     "metadata": {
      "tags": []
     },
     "execution_count": 9
    }
   ],
   "metadata": {
    "id": "gsC-Myg0RVdj",
    "outputId": "cbdd384e-6633-4cea-b1a0-a01ad934a768"
   }
  }
 ],
 "metadata": {
  "colab": {
   "collapsed_sections": [],
   "name": "Vectorization in JAX",
   "provenance": []
  },
  "jupytext": {
   "formats": "ipynb,md:myst"
  },
  "kernelspec": {
   "display_name": "Python 3",
   "name": "python3"
  }
 },
 "nbformat": 4,
 "nbformat_minor": 2
}