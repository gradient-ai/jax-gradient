{
  "nbformat": 4,
  "nbformat_minor": 2,
  "metadata": {
    "colab": {
      "name": "JAX2TF_getting_started.ipynb",
      "provenance": [],
      "collapsed_sections": [],
      "toc_visible": true
    },
    "kernelspec": {
      "display_name": "Python 3",
      "name": "python3"
    }
  },
  "cells": [
    {
      "cell_type": "markdown",
      "source": [
        "JAX-TensorFlow interoperation with JAX2TF\n",
        "===========================================\n",
        "\n",
        "The JAX2TF notebook has been deprecated, and the example code has\n",
        "been moved to [jax2tf/examples](https://github.com/google/jax/tree/main/jax/experimental/jax2tf/examples). \n"
      ],
      "metadata": {
        "id": "mB5eSZXZIO9W"
      }
    }
  ]
}